{
 "cells": [
  {
   "cell_type": "code",
   "execution_count": 1,
   "metadata": {},
   "outputs": [],
   "source": [
    "import numpy as np\n",
    "import pandas as pd\n",
    "import matplotlib.pyplot as plt\n",
    "from mpl_toolkits.mplot3d import Axes3D\n",
    "import seaborn as sns"
   ]
  },
  {
   "cell_type": "code",
   "execution_count": 2,
   "metadata": {},
   "outputs": [
    {
     "name": "stdout",
     "output_type": "stream",
     "text": [
      "[[2.10400e+03 3.00000e+00 3.99900e+05]\n",
      " [1.60000e+03 3.00000e+00 3.29900e+05]\n",
      " [2.40000e+03 3.00000e+00 3.69000e+05]\n",
      " [1.41600e+03 2.00000e+00 2.32000e+05]\n",
      " [3.00000e+03 4.00000e+00 5.39900e+05]\n",
      " [1.98500e+03 4.00000e+00 2.99900e+05]\n",
      " [1.53400e+03 3.00000e+00 3.14900e+05]\n",
      " [1.42700e+03 3.00000e+00 1.98999e+05]\n",
      " [1.38000e+03 3.00000e+00 2.12000e+05]\n",
      " [1.49400e+03 3.00000e+00 2.42500e+05]\n",
      " [1.94000e+03 4.00000e+00 2.39999e+05]\n",
      " [2.00000e+03 3.00000e+00 3.47000e+05]\n",
      " [1.89000e+03 3.00000e+00 3.29999e+05]\n",
      " [4.47800e+03 5.00000e+00 6.99900e+05]\n",
      " [1.26800e+03 3.00000e+00 2.59900e+05]\n",
      " [2.30000e+03 4.00000e+00 4.49900e+05]\n",
      " [1.32000e+03 2.00000e+00 2.99900e+05]\n",
      " [1.23600e+03 3.00000e+00 1.99900e+05]\n",
      " [2.60900e+03 4.00000e+00 4.99998e+05]\n",
      " [3.03100e+03 4.00000e+00 5.99000e+05]\n",
      " [1.76700e+03 3.00000e+00 2.52900e+05]\n",
      " [1.88800e+03 2.00000e+00 2.55000e+05]\n",
      " [1.60400e+03 3.00000e+00 2.42900e+05]\n",
      " [1.96200e+03 4.00000e+00 2.59900e+05]\n",
      " [3.89000e+03 3.00000e+00 5.73900e+05]\n",
      " [1.10000e+03 3.00000e+00 2.49900e+05]\n",
      " [1.45800e+03 3.00000e+00 4.64500e+05]\n",
      " [2.52600e+03 3.00000e+00 4.69000e+05]\n",
      " [2.20000e+03 3.00000e+00 4.75000e+05]\n",
      " [2.63700e+03 3.00000e+00 2.99900e+05]\n",
      " [1.83900e+03 2.00000e+00 3.49900e+05]\n",
      " [1.00000e+03 1.00000e+00 1.69900e+05]\n",
      " [2.04000e+03 4.00000e+00 3.14900e+05]\n",
      " [3.13700e+03 3.00000e+00 5.79900e+05]\n",
      " [1.81100e+03 4.00000e+00 2.85900e+05]\n",
      " [1.43700e+03 3.00000e+00 2.49900e+05]\n",
      " [1.23900e+03 3.00000e+00 2.29900e+05]\n",
      " [2.13200e+03 4.00000e+00 3.45000e+05]\n",
      " [4.21500e+03 4.00000e+00 5.49000e+05]\n",
      " [2.16200e+03 4.00000e+00 2.87000e+05]\n",
      " [1.66400e+03 2.00000e+00 3.68500e+05]\n",
      " [2.23800e+03 3.00000e+00 3.29900e+05]\n",
      " [2.56700e+03 4.00000e+00 3.14000e+05]\n",
      " [1.20000e+03 3.00000e+00 2.99000e+05]\n",
      " [8.52000e+02 2.00000e+00 1.79900e+05]\n",
      " [1.85200e+03 4.00000e+00 2.99900e+05]\n",
      " [1.20300e+03 3.00000e+00 2.39500e+05]]\n"
     ]
    },
    {
     "data": {
      "text/plain": [
       "(47, 1)"
      ]
     },
     "execution_count": 2,
     "metadata": {},
     "output_type": "execute_result"
    }
   ],
   "source": [
    "data2 = np.genfromtxt('ex1data2.txt', delimiter=',')\n",
    "\n",
    "data2.shape\n",
    "print(data2)\n",
    "\n",
    "x2 = data2[:, :2]\n",
    "y2 = data2[:, -1][np.newaxis].T\n",
    "\n",
    "y2.shape"
   ]
  },
  {
   "cell_type": "code",
   "execution_count": 47,
   "metadata": {},
   "outputs": [
    {
     "name": "stdout",
     "output_type": "stream",
     "text": [
      "mean[2000.68085106    3.17021277]\n",
      "standard deviation[7.86202619e+02 7.52842809e-01]\n",
      "[[ 1.00000000e+00  1.31415422e-01 -2.26093368e-01]\n",
      " [ 1.00000000e+00 -5.09640698e-01 -2.26093368e-01]\n",
      " [ 1.00000000e+00  5.07908699e-01 -2.26093368e-01]\n",
      " [ 1.00000000e+00 -7.43677059e-01 -1.55439190e+00]\n",
      " [ 1.00000000e+00  1.27107075e+00  1.10220517e+00]\n",
      " [ 1.00000000e+00 -1.99450507e-02  1.10220517e+00]\n",
      " [ 1.00000000e+00 -5.93588523e-01 -2.26093368e-01]\n",
      " [ 1.00000000e+00 -7.29685755e-01 -2.26093368e-01]\n",
      " [ 1.00000000e+00 -7.89466782e-01 -2.26093368e-01]\n",
      " [ 1.00000000e+00 -6.44465993e-01 -2.26093368e-01]\n",
      " [ 1.00000000e+00 -7.71822042e-02  1.10220517e+00]\n",
      " [ 1.00000000e+00 -8.65999486e-04 -2.26093368e-01]\n",
      " [ 1.00000000e+00 -1.40779041e-01 -2.26093368e-01]\n",
      " [ 1.00000000e+00  3.15099326e+00  2.43050370e+00]\n",
      " [ 1.00000000e+00 -9.31923697e-01 -2.26093368e-01]\n",
      " [ 1.00000000e+00  3.80715024e-01  1.10220517e+00]\n",
      " [ 1.00000000e+00 -8.65782986e-01 -1.55439190e+00]\n",
      " [ 1.00000000e+00 -9.72625673e-01 -2.26093368e-01]\n",
      " [ 1.00000000e+00  7.73743478e-01  1.10220517e+00]\n",
      " [ 1.00000000e+00  1.31050078e+00  1.10220517e+00]\n",
      " [ 1.00000000e+00 -2.97227261e-01 -2.26093368e-01]\n",
      " [ 1.00000000e+00 -1.43322915e-01 -1.55439190e+00]\n",
      " [ 1.00000000e+00 -5.04552951e-01 -2.26093368e-01]\n",
      " [ 1.00000000e+00 -4.91995958e-02  1.10220517e+00]\n",
      " [ 1.00000000e+00  2.40309445e+00 -2.26093368e-01]\n",
      " [ 1.00000000e+00 -1.14560907e+00 -2.26093368e-01]\n",
      " [ 1.00000000e+00 -6.90255715e-01 -2.26093368e-01]\n",
      " [ 1.00000000e+00  6.68172729e-01 -2.26093368e-01]\n",
      " [ 1.00000000e+00  2.53521350e-01 -2.26093368e-01]\n",
      " [ 1.00000000e+00  8.09357707e-01 -2.26093368e-01]\n",
      " [ 1.00000000e+00 -2.05647815e-01 -1.55439190e+00]\n",
      " [ 1.00000000e+00 -1.27280274e+00 -2.88269044e+00]\n",
      " [ 1.00000000e+00  5.00114703e-02  1.10220517e+00]\n",
      " [ 1.00000000e+00  1.44532608e+00 -2.26093368e-01]\n",
      " [ 1.00000000e+00 -2.41262044e-01  1.10220517e+00]\n",
      " [ 1.00000000e+00 -7.16966387e-01 -2.26093368e-01]\n",
      " [ 1.00000000e+00 -9.68809863e-01 -2.26093368e-01]\n",
      " [ 1.00000000e+00  1.67029651e-01  1.10220517e+00]\n",
      " [ 1.00000000e+00  2.81647389e+00  1.10220517e+00]\n",
      " [ 1.00000000e+00  2.05187753e-01  1.10220517e+00]\n",
      " [ 1.00000000e+00 -4.28236746e-01 -1.55439190e+00]\n",
      " [ 1.00000000e+00  3.01854946e-01 -2.26093368e-01]\n",
      " [ 1.00000000e+00  7.20322135e-01  1.10220517e+00]\n",
      " [ 1.00000000e+00 -1.01841540e+00 -2.26093368e-01]\n",
      " [ 1.00000000e+00 -1.46104938e+00 -1.55439190e+00]\n",
      " [ 1.00000000e+00 -1.89112638e-01  1.10220517e+00]\n",
      " [ 1.00000000e+00 -1.01459959e+00 -2.26093368e-01]]\n"
     ]
    }
   ],
   "source": [
    "def feat_norm(x):\n",
    "    x_norm = x.copy()\n",
    "    \n",
    "    mu = np.mean(x.T, axis=1)\n",
    "    x_norm = np.subtract(x_norm, mu)\n",
    "    \n",
    "    sigma = np.std(x.T, axis=1)\n",
    "    x_norm = np.divide(x_norm, sigma)\n",
    "    \n",
    "    return(x_norm, mu, sigma)\n",
    "\n",
    "x_norm, mu, sigma = feat_norm(x2)\n",
    "print('mean' + str(mu))\n",
    "print('standard deviation' + str(sigma))\n",
    "\n",
    "x_norm = np.insert(x_norm, 0, 1, axis=1)\n",
    "\n"
   ]
  },
  {
   "cell_type": "code",
   "execution_count": 11,
   "metadata": {},
   "outputs": [],
   "source": [
    "def cost(theta, X, y):\n",
    "    \"\"\"\n",
    "    X: R(m*n), m records, n features\n",
    "    y: R(m)\n",
    "    theta : R(n), linear regression parameters\n",
    "    \"\"\"\n",
    "    m = X.shape[0]\n",
    "\n",
    "    inner = X @ theta - y  # R(m*1)\n",
    "\n",
    "    # 1*m @ m*1 = 1*1 in matrix multiplication\n",
    "    # but you know numpy didn't do transpose in 1d array, so here is just a\n",
    "    # vector inner product to itselves\n",
    "    square_sum = inner.T @ inner\n",
    "    cost = square_sum / (2 * m)\n",
    "\n",
    "    return cost"
   ]
  },
  {
   "cell_type": "code",
   "execution_count": 12,
   "metadata": {},
   "outputs": [],
   "source": [
    "def batch_gradient_decent(theta, X, y, epoch, alpha=0.01):\n",
    "    \"\"\"fit the linear regression, return the parameter and cost\n",
    "    epoch: how many pass to run through whole batch\n",
    "    \"\"\"\n",
    "    cost_data = [cost(theta, X, y)]\n",
    "    _theta = theta.copy()  # don't want to mess up with original theta\n",
    "\n",
    "    for _ in range(epoch):\n",
    "        _theta = _theta - alpha * X.T @ (X @ theta - y)\n",
    "        cost_data.append(cost(_theta, X, y))\n",
    "\n",
    "    return _theta, cost_data\n"
   ]
  },
  {
   "cell_type": "code",
   "execution_count": 15,
   "metadata": {},
   "outputs": [],
   "source": [
    "theta_test = np.zeros((3,1))\n",
    "alpha = 0.1\n",
    "it = 400\n",
    "theta, cost_data = batch_gradient_decent(theta_test, x_norm, y2, it, alpha)"
   ]
  },
  {
   "cell_type": "code",
   "execution_count": 33,
   "metadata": {},
   "outputs": [
    {
     "name": "stdout",
     "output_type": "stream",
     "text": [
      "[[[0]\n",
      "  [1]\n",
      "  [2]]]\n",
      "[[0]\n",
      " [1]\n",
      " [2]]\n"
     ]
    }
   ],
   "source": [
    "x = np.array([[[0], [1], [2]]])\n",
    "print(x)\n",
    "y = np.squeeze(x, axis=0)\n",
    "y.shape\n",
    "print(y)"
   ]
  },
  {
   "cell_type": "code",
   "execution_count": 51,
   "metadata": {},
   "outputs": [
    {
     "name": "stdout",
     "output_type": "stream",
     "text": [
      "[[334302.06399328]\n",
      " [ 99411.44947359]\n",
      " [  3267.01285407]]\n",
      "(401, 1)\n"
     ]
    }
   ],
   "source": [
    "print(theta)\n",
    "\n",
    "\n",
    "cost_data_ray = np.asarray(cost_data).reshape((401,1))\n",
    "#cost_data_ray_10 = cost_data_ray.\n",
    "\n",
    "print(cost_data_ray.shape)"
   ]
  },
  {
   "cell_type": "code",
   "execution_count": 40,
   "metadata": {},
   "outputs": [
    {
     "data": {
      "text/plain": [
       "Text(0.5, 0, 'Iterations')"
      ]
     },
     "execution_count": 40,
     "metadata": {},
     "output_type": "execute_result"
    },
    {
     "data": {
      "image/png": "[encoded data removed]",
      "text/plain": [
       "<Figure size 720x432 with 1 Axes>"
      ]
     },
     "metadata": {
      "needs_background": "light"
     },
     "output_type": "display_data"
    }
   ],
   "source": [
    "plt.figure(figsize=(10,6))\n",
    "plt.plot(cost_data_ray_10)\n",
    "plt.ylabel('Cost J')\n",
    "plt.xlabel('Iterations')"
   ]
  },
  {
   "cell_type": "code",
   "execution_count": 41,
   "metadata": {},
   "outputs": [],
   "source": [
    "def cost(theta, X, y):\n",
    "    \"\"\"\n",
    "    X: R(m*n), m records, n features\n",
    "    y: R(m)\n",
    "    theta : R(n), linear regression parameters\n",
    "    \"\"\"\n",
    "    m = X.shape[0]\n",
    "\n",
    "    inner = X @ theta - y  # R(m*1)\n",
    "\n",
    "    # 1*m @ m*1 = 1*1 in matrix multiplication\n",
    "    # but you know numpy didn't do transpose in 1d array, so here is just a\n",
    "    # vector inner product to itselves\n",
    "    square_sum = inner.T @ inner\n",
    "    cost = square_sum / (2 * m)\n",
    "\n",
    "    return cost"
   ]
  },
  {
   "cell_type": "code",
   "execution_count": 42,
   "metadata": {},
   "outputs": [],
   "source": [
    "def gradient(theta, X, y):\n",
    "    m = X.shape[0]\n",
    "\n",
    "    inner = X.T @ (X @ theta - y)  # (m,n).T @ (m, 1) -> (n, 1)\n",
    "\n",
    "    return inner / m"
   ]
  },
  {
   "cell_type": "code",
   "execution_count": 43,
   "metadata": {},
   "outputs": [],
   "source": [
    "def batch_gradient_decent(theta, X, y, epoch, alpha=0.01):\n",
    "    \"\"\"fit the linear regression, return the parameter and cost\n",
    "    epoch: how many pass to run through whole batch\n",
    "    \"\"\"\n",
    "    cost_data = [cost(theta, X, y)]\n",
    "    _theta = theta.copy()  # don't want to mess up with original theta\n",
    "\n",
    "    for _ in range(epoch):\n",
    "        _theta = _theta - alpha * gradient(_theta, X, y)\n",
    "        cost_data.append(cost(_theta, X, y))\n",
    "\n",
    "    return _theta, cost_data"
   ]
  },
  {
   "cell_type": "code",
   "execution_count": 50,
   "metadata": {},
   "outputs": [
    {
     "name": "stdout",
     "output_type": "stream",
     "text": [
      "[[334302.06399328]\n",
      " [ 99411.44947359]\n",
      " [  3267.01285407]]\n"
     ]
    }
   ],
   "source": [
    "theta_test = np.zeros((3,1))\n",
    "alpha = 0.1\n",
    "it = 400\n",
    "theta, cost_data = batch_gradient_decent(theta_test, x_norm, y2, it)\n",
    "\n",
    "print(theta)\n",
    "#print(cost_data)"
   ]
  }
 ],
 "metadata": {
  "kernelspec": {
   "display_name": "Python 3",
   "language": "python",
   "name": "python3"
  },
  "language_info": {
   "codemirror_mode": {
    "name": "ipython",
    "version": 3
   },
   "file_extension": ".py",
   "mimetype": "text/x-python",
   "name": "python",
   "nbconvert_exporter": "python",
   "pygments_lexer": "ipython3",
   "version": "3.6.6"
  }
 },
 "nbformat": 4,
 "nbformat_minor": 2
}
