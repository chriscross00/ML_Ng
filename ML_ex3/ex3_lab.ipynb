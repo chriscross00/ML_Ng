{
 "cells": [
  {
   "cell_type": "markdown",
   "metadata": {},
   "source": [
    "#### Load libraries"
   ]
  },
  {
   "cell_type": "code",
   "execution_count": 1,
   "metadata": {},
   "outputs": [],
   "source": [
    "import numpy as np\n",
    "import pandas as pd\n",
    "import matplotlib.pyplot as plt\n",
    "from scipy import optimize as opt\n",
    "from scipy.io import loadmat"
   ]
  },
  {
   "cell_type": "markdown",
   "metadata": {},
   "source": [
    "## 1 Multi-class Classification"
   ]
  },
  {
   "cell_type": "markdown",
   "metadata": {},
   "source": [
    "#### 1.1 Dataset"
   ]
  },
  {
   "cell_type": "code",
   "execution_count": 2,
   "metadata": {},
   "outputs": [
    {
     "name": "stdout",
     "output_type": "stream",
     "text": [
      "x: (5000, 401)\n",
      "y: (5000, 1) unique y: [0 1 2 3 4 5 6 7 8 9]\n"
     ]
    }
   ],
   "source": [
    "input_layer_size = 400\n",
    "num_labels = 10\n",
    "\n",
    "data = loadmat('ex3data1.mat')\n",
    "x, y = data['X'], data['y']\n",
    "x = np.insert(x, 0, 1, axis=1)\n",
    "y[y == 10] = 0\n",
    "\n",
    "print('x:', x.shape)\n",
    "print('y:', y.shape, 'unique y:', np.unique(y))\n"
   ]
  },
  {
   "cell_type": "markdown",
   "metadata": {},
   "source": [
    "#### 1.2 Visualizing the data"
   ]
  },
  {
   "cell_type": "code",
   "execution_count": 3,
   "metadata": {},
   "outputs": [
    {
     "data": {
      "text/plain": [
       "(-0.5, 199.5, 19.5, -0.5)"
      ]
     },
     "execution_count": 3,
     "metadata": {},
     "output_type": "execute_result"
    },
    {
     "data": {
      "image/png": "[encoded data removed]",
      "text/plain": [
       "<Figure size 432x288 with 1 Axes>"
      ]
     },
     "metadata": {
      "needs_background": "light"
     },
     "output_type": "display_data"
    }
   ],
   "source": [
    "sample = np.random.choice(x.shape[0], 10)\n",
    "plt.imshow(x[sample,1:].reshape(-1,20).T, cmap = 'gray')\n",
    "plt.axis('off')"
   ]
  },
  {
   "cell_type": "markdown",
   "metadata": {},
   "source": [
    "#### 1.3 Vectorizing logisitic regression"
   ]
  },
  {
   "cell_type": "markdown",
   "metadata": {},
   "source": [
    "Creating sigmoid function"
   ]
  },
  {
   "cell_type": "code",
   "execution_count": 4,
   "metadata": {},
   "outputs": [],
   "source": [
    "def sigmoid(z):\n",
    "    return (1/(1+np.exp(-z)))"
   ]
  },
  {
   "cell_type": "markdown",
   "metadata": {},
   "source": [
    "Creating unregularized cost function"
   ]
  },
  {
   "cell_type": "code",
   "execution_count": 6,
   "metadata": {},
   "outputs": [],
   "source": [
    "def cost(theta, x, y, reg):\n",
    "    h = sigmoid(np.dot(x, theta))\n",
    "    m = y.size\n",
    "    \n",
    "    cost = -1*(1/m)*(np.dot(np.log(h).T, y) + np.dot(np.log(1-h).T, 1-y)) + (reg/(2*m)*np.sum(np.square(theta[1:])))\n",
    "    \n",
    "    return cost"
   ]
  },
  {
   "cell_type": "markdown",
   "metadata": {},
   "source": [
    "Creating unregularized gradient descent function"
   ]
  },
  {
   "cell_type": "code",
   "execution_count": 7,
   "metadata": {},
   "outputs": [],
   "source": [
    "def gradient(theta, x, y, reg):\n",
    "    h = sigmoid(np.dot(x, theta))\n",
    "    m = y.size\n",
    "    \n",
    "    gradient = (1/m)*np.dot(x.T, h-y) \n",
    "    reg_term = (reg/m)*theta[1:]\n",
    "    gradient = gradient[1:] + reg_term\n",
    "    \n",
    "    return gradient"
   ]
  },
  {
   "cell_type": "code",
   "execution_count": 7,
   "metadata": {},
   "outputs": [
    {
     "name": "stdout",
     "output_type": "stream",
     "text": [
      "pop dim: (2, 5)\n",
      "stop dim: (5,)\n"
     ]
    }
   ],
   "source": [
    "pop = np.array([[1,2,3,4,5],[6,7,8,9,0]])\n",
    "stop = np.array([1,2,3,4,5])\n",
    "print('pop dim:', pop.shape)\n",
    "print('stop dim:', stop.shape)\n"
   ]
  },
  {
   "cell_type": "code",
   "execution_count": 8,
   "metadata": {},
   "outputs": [],
   "source": [
    "# test values for the parameters theta\n",
    "theta_t = np.array([-2, -1, 1, 2], dtype=float)\n",
    "\n",
    "# test values for the inputs\n",
    "X_t = np.concatenate([np.ones((5, 1)), np.arange(1, 16).reshape(5, 3, order='F')/10.0], axis=1)\n",
    "\n",
    "# test values for the labels\n",
    "y_t = np.array([1, 0, 1, 0, 1])\n",
    "\n",
    "# test value for the regularization parameter\n",
    "lambda_t = 3"
   ]
  },
  {
   "cell_type": "code",
   "execution_count": 9,
   "metadata": {},
   "outputs": [
    {
     "name": "stdout",
     "output_type": "stream",
     "text": [
      "[[1.  0.1 0.6 1.1]\n",
      " [1.  0.2 0.7 1.2]\n",
      " [1.  0.3 0.8 1.3]\n",
      " [1.  0.4 0.9 1.4]\n",
      " [1.  0.5 1.  1.5]]\n"
     ]
    }
   ],
   "source": [
    "print(X_t)"
   ]
  },
  {
   "cell_type": "code",
   "execution_count": 10,
   "metadata": {},
   "outputs": [
    {
     "name": "stdout",
     "output_type": "stream",
     "text": [
      "[-0.54855841  0.72472227  1.39800296]\n"
     ]
    }
   ],
   "source": [
    "j = cost(theta_t, X_t, y_t, lambda_t)\n",
    "poll = gradient(theta_t, X_t, y_t, lambda_t)\n",
    "print(poll)"
   ]
  },
  {
   "cell_type": "markdown",
   "metadata": {},
   "source": [
    "#### 1.4 One-vs-all classification"
   ]
  },
  {
   "cell_type": "code",
   "execution_count": 11,
   "metadata": {},
   "outputs": [],
   "source": [
    "def one_all(x, y, num_labels, reg):\n",
    "    m, n = x.shape\n",
    "    initial_theta = np.zeros(n+1)\n",
    "    \n",
    "    res = optimize.minimize(cost,\n",
    "                            (x, y==c, reg),\n",
    "                            jac=True,\n",
    "                            method='TNC',\n",
    "                            options={'maxiter': 100}) #[1x401]\n",
    "    \n",
    "    return all_theta #[10x401]"
   ]
  }
 ],
 "metadata": {
  "kernelspec": {
   "display_name": "Python 3",
   "language": "python",
   "name": "python3"
  },
  "language_info": {
   "codemirror_mode": {
    "name": "ipython",
    "version": 3
   },
   "file_extension": ".py",
   "mimetype": "text/x-python",
   "name": "python",
   "nbconvert_exporter": "python",
   "pygments_lexer": "ipython3",
   "version": "3.7.0"
  }
 },
 "nbformat": 4,
 "nbformat_minor": 2
}
