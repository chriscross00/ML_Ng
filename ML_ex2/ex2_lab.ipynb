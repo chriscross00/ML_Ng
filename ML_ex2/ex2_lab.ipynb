{
 "cells": [
  {
   "cell_type": "code",
   "execution_count": 43,
   "metadata": {},
   "outputs": [],
   "source": [
    "import numpy as np\n",
    "import pandas as pd\n",
    "import matplotlib.pyplot as plt\n",
    "import seaborn as sns\n",
    "import scipy as sci"
   ]
  },
  {
   "cell_type": "markdown",
   "metadata": {},
   "source": [
    "1.1 Visualizing the data"
   ]
  },
  {
   "cell_type": "code",
   "execution_count": 3,
   "metadata": {},
   "outputs": [
    {
     "name": "stdout",
     "output_type": "stream",
     "text": [
      "(100, 2) (100,)\n"
     ]
    }
   ],
   "source": [
    "data2 = np.loadtxt('ex2data1.txt', delimiter=',')\n",
    "\n",
    "x = data2[:,:2]\n",
    "y = data2[:,2]#[np.newaxis].T\n",
    "print(x.shape, y.shape)"
   ]
  },
  {
   "cell_type": "code",
   "execution_count": 4,
   "metadata": {},
   "outputs": [
    {
     "data": {
      "text/plain": [
       "<matplotlib.legend.Legend at 0x261bc292198>"
      ]
     },
     "execution_count": 4,
     "metadata": {},
     "output_type": "execute_result"
    },
    {
     "data": {
      "image/png": "[encoded data removed]",
      "text/plain": [
       "<Figure size 720x432 with 1 Axes>"
      ]
     },
     "metadata": {
      "needs_background": "light"
     },
     "output_type": "display_data"
    }
   ],
   "source": [
    "pos = y == 1\n",
    "neg = y == 0\n",
    "\n",
    "plt.figure(figsize=(10,6))\n",
    "plt.plot(x[pos, 0], x[pos, 1],'bo')\n",
    "plt.plot(x[neg, 0], x[neg, 1], 'rx')\n",
    "plt.xlabel('Exam 1 score')\n",
    "plt.ylabel('Exam 2 score')\n",
    "plt.legend(['Admitted', 'Not admitted'])"
   ]
  },
  {
   "cell_type": "markdown",
   "metadata": {},
   "source": [
    "1.2 Implementation"
   ]
  },
  {
   "cell_type": "code",
   "execution_count": 5,
   "metadata": {},
   "outputs": [
    {
     "name": "stdout",
     "output_type": "stream",
     "text": [
      "g( 0 ) =  0.5\n"
     ]
    }
   ],
   "source": [
    "def sigmoid(z):\n",
    "    #z = np.array(z)\n",
    "    #g = np.zeros(z.shape)\n",
    "    g = 1/(1+np.exp(z))\n",
    "    return g\n",
    "\n",
    "z = 0\n",
    "g = sigmoid(z)\n",
    "print('g(', z, ') = ', g)"
   ]
  },
  {
   "cell_type": "code",
   "execution_count": 17,
   "metadata": {},
   "outputs": [],
   "source": [
    "m, n = x.shape\n",
    "\n",
    "x = np.insert(x, 0, 1, axis=1)"
   ]
  },
  {
   "cell_type": "code",
   "execution_count": 38,
   "metadata": {},
   "outputs": [],
   "source": [
    "def cost(theta, x, y):\n",
    "    h = sigmoid(np.dot(x, theta)) \n",
    "    cost = -1*(1/m) * (np.dot(np.log(h).T, y) + np.dot(np.log(1-h).T, 1-y))\n",
    "    return cost"
   ]
  },
  {
   "cell_type": "code",
   "execution_count": 24,
   "metadata": {},
   "outputs": [],
   "source": [
    "def gradient(theta, x, y):\n",
    "    h = sigmoid(np.dot(x, theta))\n",
    "    \n",
    "    gradient = (1/m) * np.dot(x.T, (h-y))\n",
    "    return gradient\n",
    "    \n"
   ]
  },
  {
   "cell_type": "code",
   "execution_count": 42,
   "metadata": {},
   "outputs": [
    {
     "name": "stdout",
     "output_type": "stream",
     "text": [
      "gradient at zeros: [ -0.1        -12.00921659 -11.26284221]\n",
      "cost at zeros: 0.6931471805599452\n"
     ]
    }
   ],
   "source": [
    "initial_theta = np.zeros(n+1)\n",
    "print('gradient at zeros:', gradient(initial_theta, x, y))\n",
    "print('cost at zeros:', cost(initial_theta, x, y))"
   ]
  }
 ],
 "metadata": {
  "kernelspec": {
   "display_name": "Python 3",
   "language": "python",
   "name": "python3"
  },
  "language_info": {
   "codemirror_mode": {
    "name": "ipython",
    "version": 3
   },
   "file_extension": ".py",
   "mimetype": "text/x-python",
   "name": "python",
   "nbconvert_exporter": "python",
   "pygments_lexer": "ipython3",
   "version": "3.7.0"
  }
 },
 "nbformat": 4,
 "nbformat_minor": 2
}
